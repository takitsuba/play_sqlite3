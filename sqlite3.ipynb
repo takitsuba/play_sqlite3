{
 "cells": [
  {
   "cell_type": "markdown",
   "metadata": {},
   "source": [
    "# sqlite3\n",
    "* 下記の記事のコピペ\n",
    "* https://qiita.com/mas9612/items/a881e9f14d20ee1c0703"
   ]
  },
  {
   "cell_type": "code",
   "execution_count": 1,
   "metadata": {},
   "outputs": [
    {
     "name": "stdout",
     "output_type": "stream",
     "text": [
      "(1, 'Taro', 20, 'male')\n",
      "(2, 'Shota', 54, 'male')\n",
      "(3, 'Nana', 40, 'female')\n",
      "(4, 'Tooru', 78, 'male')\n",
      "(5, 'Saki', 31, 'female')\n"
     ]
    }
   ],
   "source": [
    "import sqlite3\n",
    "\n",
    "dbname = 'database.db'\n",
    "\n",
    "conn = sqlite3.connect(dbname)\n",
    "c = conn.cursor()\n",
    "\n",
    "# executeメソッドでSQL文を実行する\n",
    "create_table = '''create table users (id int, name varchar(64),\n",
    "                  age int, gender varchar(32))'''\n",
    "c.execute(create_table)\n",
    "\n",
    "# SQL文に値をセットする場合は，Pythonのformatメソッドなどは使わずに，\n",
    "# セットしたい場所に?を記述し，executeメソッドの第2引数に?に当てはめる値を\n",
    "# タプルで渡す．\n",
    "sql = 'insert into users (id, name, age, gender) values (?,?,?,?)'\n",
    "user = (1, 'Taro', 20, 'male')\n",
    "c.execute(sql, user)\n",
    "\n",
    "# 一度に複数のSQL文を実行したいときは，タプルのリストを作成した上で\n",
    "# executemanyメソッドを実行する\n",
    "insert_sql = 'insert into users (id, name, age, gender) values (?,?,?,?)'\n",
    "users = [\n",
    "    (2, 'Shota', 54, 'male'),\n",
    "    (3, 'Nana', 40, 'female'),\n",
    "    (4, 'Tooru', 78, 'male'),\n",
    "    (5, 'Saki', 31, 'female')\n",
    "]\n",
    "c.executemany(insert_sql, users)\n",
    "conn.commit()\n",
    "\n",
    "select_sql = 'select * from users'\n",
    "for row in c.execute(select_sql):\n",
    "    print(row)\n",
    "\n",
    "conn.close()"
   ]
  }
 ],
 "metadata": {
  "kernelspec": {
   "display_name": "Python 3",
   "language": "python",
   "name": "python3"
  },
  "language_info": {
   "codemirror_mode": {
    "name": "ipython",
    "version": 3
   },
   "file_extension": ".py",
   "mimetype": "text/x-python",
   "name": "python",
   "nbconvert_exporter": "python",
   "pygments_lexer": "ipython3",
   "version": "3.6.3"
  }
 },
 "nbformat": 4,
 "nbformat_minor": 2
}
